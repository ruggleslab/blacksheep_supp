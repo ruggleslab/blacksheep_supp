{
 "cells": [
  {
   "cell_type": "code",
   "execution_count": 1,
   "metadata": {},
   "outputs": [],
   "source": [
    "import pandas as pd\n",
    "import sys\n",
    "sys.path.insert(0, \"/Users/lili/dropbox_lili/common_functions\")\n",
    "sys.path.insert(0, \"/Users/lili/dropbox_lili/outliers_package/blackSheep/\")\n",
    "import commonFns\n",
    "import blacksheep as blsh"
   ]
  },
  {
   "cell_type": "code",
   "execution_count": 5,
   "metadata": {},
   "outputs": [],
   "source": [
    "annotations = pd.read_csv('vignettes/brca/annotations_common_samples.csv', index_col=0)\n",
    "for col in ['GATA3 Mutation','PIK3CA Mutation','TP53 Mutation']:\n",
    "    new_col = '.'.join(col.split()+['Status'])\n",
    "    annotations[new_col] = annotations[col].isnull()==False\n",
    "\n",
    "annotations = blsh.binarize_annotations(annotations[[\n",
    "    'PAM50', \n",
    "    'ER Status', \n",
    "    'PR Status', \n",
    "    'GATA3.Mutation.Status',\n",
    "    'PIK3CA.Mutation.Status',\n",
    "    'TP53.Mutation.Status'\n",
    "]])"
   ]
  },
  {
   "cell_type": "code",
   "execution_count": 8,
   "metadata": {},
   "outputs": [],
   "source": [
    "values = pd.read_csv('vignettes/brca/phospho_common_samples_data.csv', index_col=0)"
   ]
  },
  {
   "cell_type": "code",
   "execution_count": 10,
   "metadata": {},
   "outputs": [
    {
     "name": "stderr",
     "output_type": "stream",
     "text": [
      "/Users/lili/anaconda3/envs/blacksheep/lib/python3.7/site-packages/numpy/lib/nanfunctions.py:1354: RuntimeWarning: All-NaN slice encountered\n",
      "  overwrite_input, interpolation)\n"
     ]
    }
   ],
   "source": [
    "outliers = blsh.make_outliers_table(values)"
   ]
  },
  {
   "cell_type": "code",
   "execution_count": 14,
   "metadata": {},
   "outputs": [],
   "source": [
    "group1, lis1, group2, lis2 = blsh.comparisons.get_sample_lists(annotations, 'PAM50_Her2')"
   ]
  },
  {
   "cell_type": "markdown",
   "metadata": {},
   "source": [
    "# A gene in tosh's analysis that's not in mine:"
   ]
  },
  {
   "cell_type": "code",
   "execution_count": 18,
   "metadata": {},
   "outputs": [
    {
     "data": {
      "text/html": [
       "<div>\n",
       "<style scoped>\n",
       "    .dataframe tbody tr th:only-of-type {\n",
       "        vertical-align: middle;\n",
       "    }\n",
       "\n",
       "    .dataframe tbody tr th {\n",
       "        vertical-align: top;\n",
       "    }\n",
       "\n",
       "    .dataframe thead th {\n",
       "        text-align: right;\n",
       "    }\n",
       "</style>\n",
       "<table border=\"1\" class=\"dataframe\">\n",
       "  <thead>\n",
       "    <tr style=\"text-align: right;\">\n",
       "      <th></th>\n",
       "      <th>TCGA-AO-A12D_outliers</th>\n",
       "      <th>TCGA-C8-A130_outliers</th>\n",
       "      <th>TCGA-C8-A138_outliers</th>\n",
       "      <th>TCGA-C8-A12L_outliers</th>\n",
       "      <th>TCGA-C8-A12T_outliers</th>\n",
       "      <th>TCGA-A2-A0EQ_outliers</th>\n",
       "      <th>TCGA-AR-A0TX_outliers</th>\n",
       "      <th>TCGA-A8-A076_outliers</th>\n",
       "      <th>TCGA-C8-A135_outliers</th>\n",
       "      <th>TCGA-C8-A12Z_outliers</th>\n",
       "      <th>TCGA-AO-A0JE_outliers</th>\n",
       "      <th>TCGA-A8-A09G_outliers</th>\n",
       "    </tr>\n",
       "    <tr>\n",
       "      <th>gene</th>\n",
       "      <th></th>\n",
       "      <th></th>\n",
       "      <th></th>\n",
       "      <th></th>\n",
       "      <th></th>\n",
       "      <th></th>\n",
       "      <th></th>\n",
       "      <th></th>\n",
       "      <th></th>\n",
       "      <th></th>\n",
       "      <th></th>\n",
       "      <th></th>\n",
       "    </tr>\n",
       "  </thead>\n",
       "  <tbody>\n",
       "    <tr>\n",
       "      <th>NP_001001924</th>\n",
       "      <td>0.0</td>\n",
       "      <td>0.0</td>\n",
       "      <td>0.0</td>\n",
       "      <td>0.0</td>\n",
       "      <td>0.0</td>\n",
       "      <td>0.0</td>\n",
       "      <td>3.0</td>\n",
       "      <td>1.0</td>\n",
       "      <td>0.0</td>\n",
       "      <td>2.0</td>\n",
       "      <td>2.0</td>\n",
       "      <td>0.0</td>\n",
       "    </tr>\n",
       "  </tbody>\n",
       "</table>\n",
       "</div>"
      ],
      "text/plain": [
       "              TCGA-AO-A12D_outliers  TCGA-C8-A130_outliers  \\\n",
       "gene                                                         \n",
       "NP_001001924                    0.0                    0.0   \n",
       "\n",
       "              TCGA-C8-A138_outliers  TCGA-C8-A12L_outliers  \\\n",
       "gene                                                         \n",
       "NP_001001924                    0.0                    0.0   \n",
       "\n",
       "              TCGA-C8-A12T_outliers  TCGA-A2-A0EQ_outliers  \\\n",
       "gene                                                         \n",
       "NP_001001924                    0.0                    0.0   \n",
       "\n",
       "              TCGA-AR-A0TX_outliers  TCGA-A8-A076_outliers  \\\n",
       "gene                                                         \n",
       "NP_001001924                    3.0                    1.0   \n",
       "\n",
       "              TCGA-C8-A135_outliers  TCGA-C8-A12Z_outliers  \\\n",
       "gene                                                         \n",
       "NP_001001924                    0.0                    2.0   \n",
       "\n",
       "              TCGA-AO-A0JE_outliers  TCGA-A8-A09G_outliers  \n",
       "gene                                                        \n",
       "NP_001001924                    2.0                    0.0  "
      ]
     },
     "execution_count": 18,
     "metadata": {},
     "output_type": "execute_result"
    }
   ],
   "source": [
    "outliers.df.loc[['NP_001001924'], [samp+'_outliers' for samp in lis2]]"
   ]
  },
  {
   "cell_type": "code",
   "execution_count": 19,
   "metadata": {},
   "outputs": [
    {
     "data": {
      "text/plain": [
       "12"
      ]
     },
     "execution_count": 19,
     "metadata": {},
     "output_type": "execute_result"
    }
   ],
   "source": [
    "len(lis2)"
   ]
  },
  {
   "cell_type": "code",
   "execution_count": 21,
   "metadata": {},
   "outputs": [
    {
     "data": {
      "text/plain": [
       "gene\n",
       "NP_001001924    136.0\n",
       "dtype: float64"
      ]
     },
     "execution_count": 21,
     "metadata": {},
     "output_type": "execute_result"
    }
   ],
   "source": [
    "outliers.df.loc[['NP_001001924'], [samp+'_notOutliers' for samp in lis2]].sum(axis=1)"
   ]
  },
  {
   "cell_type": "code",
   "execution_count": 22,
   "metadata": {},
   "outputs": [
    {
     "data": {
      "text/plain": [
       "gene\n",
       "NP_001001924    8.0\n",
       "dtype: float64"
      ]
     },
     "execution_count": 22,
     "metadata": {},
     "output_type": "execute_result"
    }
   ],
   "source": [
    "outliers.df.loc[['NP_001001924'], [samp+'_outliers' for samp in lis2]].sum(axis=1)"
   ]
  },
  {
   "cell_type": "code",
   "execution_count": 23,
   "metadata": {},
   "outputs": [
    {
     "data": {
      "text/plain": [
       "0.05555555555555555"
      ]
     },
     "execution_count": 23,
     "metadata": {},
     "output_type": "execute_result"
    }
   ],
   "source": [
    "8/(136+8)"
   ]
  },
  {
   "cell_type": "code",
   "execution_count": 24,
   "metadata": {},
   "outputs": [
    {
     "data": {
      "text/plain": [
       "gene\n",
       "NP_001001924    754.0\n",
       "dtype: float64"
      ]
     },
     "execution_count": 24,
     "metadata": {},
     "output_type": "execute_result"
    }
   ],
   "source": [
    "outliers.df.loc[['NP_001001924'], [samp+'_notOutliers' for samp in lis1]].sum(axis=1)"
   ]
  },
  {
   "cell_type": "code",
   "execution_count": 25,
   "metadata": {},
   "outputs": [
    {
     "data": {
      "text/plain": [
       "gene\n",
       "NP_001001924    49.0\n",
       "dtype: float64"
      ]
     },
     "execution_count": 25,
     "metadata": {},
     "output_type": "execute_result"
    }
   ],
   "source": [
    "outliers.df.loc[['NP_001001924'], [samp+'_outliers' for samp in lis1]].sum(axis=1)"
   ]
  },
  {
   "cell_type": "code",
   "execution_count": 26,
   "metadata": {},
   "outputs": [
    {
     "data": {
      "text/plain": [
       "0.06102117061021171"
      ]
     },
     "execution_count": 26,
     "metadata": {},
     "output_type": "execute_result"
    }
   ],
   "source": [
    "49/(49+754)"
   ]
  },
  {
   "cell_type": "markdown",
   "metadata": {},
   "source": [
    "### Conclusion: should not be included, Tosh's needs an adjust"
   ]
  },
  {
   "cell_type": "markdown",
   "metadata": {},
   "source": [
    "# Finding duplicated genes in my output tables"
   ]
  },
  {
   "cell_type": "code",
   "execution_count": 27,
   "metadata": {},
   "outputs": [],
   "source": [
    "import os"
   ]
  },
  {
   "cell_type": "code",
   "execution_count": 40,
   "metadata": {},
   "outputs": [
    {
     "name": "stdout",
     "output_type": "stream",
     "text": [
      "0\n",
      "0\n",
      "0\n",
      "0\n",
      "0\n",
      "0\n",
      "0\n",
      "0\n",
      "0\n",
      "0\n",
      "0\n",
      "0\n",
      "0\n"
     ]
    }
   ],
   "source": [
    "for file in os.listdir('vignettes/output/no_agg/'):\n",
    "    if '.qvalues.tsv' in file:\n",
    "        df = pd.read_csv('vignettes/output/no_agg/'+file, sep='\\t', index_col=0)\n",
    "        print(sum(df.index.duplicated()))"
   ]
  },
  {
   "cell_type": "code",
   "execution_count": 41,
   "metadata": {},
   "outputs": [
    {
     "name": "stdout",
     "output_type": "stream",
     "text": [
      "7\n",
      "5\n",
      "4\n",
      "9\n",
      "0\n",
      "0\n",
      "6\n",
      "1\n",
      "1\n",
      "0\n",
      "0\n",
      "1\n",
      "0\n",
      "7\n",
      "3\n",
      "0\n",
      "30\n",
      "2\n",
      "0\n",
      "1\n"
     ]
    }
   ],
   "source": [
    "for file in os.listdir('vignettes/output/agg/'):\n",
    "    if '.qvalues.tsv' in file:\n",
    "        df = pd.read_csv('vignettes/output/agg/'+file, sep='\\t', index_col=0)\n",
    "        print(sum(df.index.duplicated()))"
   ]
  },
  {
   "cell_type": "code",
   "execution_count": 44,
   "metadata": {},
   "outputs": [
    {
     "data": {
      "text/html": [
       "<div>\n",
       "<style scoped>\n",
       "    .dataframe tbody tr th:only-of-type {\n",
       "        vertical-align: middle;\n",
       "    }\n",
       "\n",
       "    .dataframe tbody tr th {\n",
       "        vertical-align: top;\n",
       "    }\n",
       "\n",
       "    .dataframe thead th {\n",
       "        text-align: right;\n",
       "    }\n",
       "</style>\n",
       "<table border=\"1\" class=\"dataframe\">\n",
       "  <thead>\n",
       "    <tr style=\"text-align: right;\">\n",
       "      <th></th>\n",
       "      <th>NotOutlier_PIK3CA.Mutation.Status_False</th>\n",
       "      <th>NotOutlier_PIK3CA.Mutation.Status_True</th>\n",
       "      <th>Outliers_PIK3CA.Mutation.Status_False</th>\n",
       "      <th>Outliers_PIK3CA.Mutation.Status_True</th>\n",
       "      <th>fisherp_PIK3CA.Mutation.Status_False</th>\n",
       "      <th>fisherp_PIK3CA.Mutation.Status_True</th>\n",
       "      <th>fisherFDR_PIK3CA.Mutation.Status_False</th>\n",
       "      <th>fisherFDR_PIK3CA.Mutation.Status_True</th>\n",
       "    </tr>\n",
       "  </thead>\n",
       "  <tbody>\n",
       "    <tr>\n",
       "      <th>NP_055750</th>\n",
       "      <td>1035.0</td>\n",
       "      <td>554.0</td>\n",
       "      <td>47.0</td>\n",
       "      <td>26.0</td>\n",
       "      <td>0.900497</td>\n",
       "      <td>NaN</td>\n",
       "      <td>1.0</td>\n",
       "      <td>0.910447</td>\n",
       "    </tr>\n",
       "    <tr>\n",
       "      <th>NP_055750</th>\n",
       "      <td>1035.0</td>\n",
       "      <td>554.0</td>\n",
       "      <td>47.0</td>\n",
       "      <td>26.0</td>\n",
       "      <td>NaN</td>\n",
       "      <td>0.900497</td>\n",
       "      <td>1.0</td>\n",
       "      <td>0.910447</td>\n",
       "    </tr>\n",
       "  </tbody>\n",
       "</table>\n",
       "</div>"
      ],
      "text/plain": [
       "           NotOutlier_PIK3CA.Mutation.Status_False  \\\n",
       "NP_055750                                   1035.0   \n",
       "NP_055750                                   1035.0   \n",
       "\n",
       "           NotOutlier_PIK3CA.Mutation.Status_True  \\\n",
       "NP_055750                                   554.0   \n",
       "NP_055750                                   554.0   \n",
       "\n",
       "           Outliers_PIK3CA.Mutation.Status_False  \\\n",
       "NP_055750                                   47.0   \n",
       "NP_055750                                   47.0   \n",
       "\n",
       "           Outliers_PIK3CA.Mutation.Status_True  \\\n",
       "NP_055750                                  26.0   \n",
       "NP_055750                                  26.0   \n",
       "\n",
       "           fisherp_PIK3CA.Mutation.Status_False  \\\n",
       "NP_055750                              0.900497   \n",
       "NP_055750                                   NaN   \n",
       "\n",
       "           fisherp_PIK3CA.Mutation.Status_True  \\\n",
       "NP_055750                                  NaN   \n",
       "NP_055750                             0.900497   \n",
       "\n",
       "           fisherFDR_PIK3CA.Mutation.Status_False  \\\n",
       "NP_055750                                     1.0   \n",
       "NP_055750                                     1.0   \n",
       "\n",
       "           fisherFDR_PIK3CA.Mutation.Status_True  \n",
       "NP_055750                               0.910447  \n",
       "NP_055750                               0.910447  "
      ]
     },
     "execution_count": 44,
     "metadata": {},
     "output_type": "execute_result"
    }
   ],
   "source": [
    "df[df.index.duplicated(keep=False)]"
   ]
  },
  {
   "cell_type": "code",
   "execution_count": 45,
   "metadata": {},
   "outputs": [
    {
     "data": {
      "text/plain": [
       "0.04343807763401109"
      ]
     },
     "execution_count": 45,
     "metadata": {},
     "output_type": "execute_result"
    }
   ],
   "source": [
    "47/(47+1035)"
   ]
  },
  {
   "cell_type": "code",
   "execution_count": 46,
   "metadata": {},
   "outputs": [
    {
     "data": {
      "text/plain": [
       "0.04482758620689655"
      ]
     },
     "execution_count": 46,
     "metadata": {},
     "output_type": "execute_result"
    }
   ],
   "source": [
    "26/(26+554)"
   ]
  },
  {
   "cell_type": "code",
   "execution_count": null,
   "metadata": {},
   "outputs": [],
   "source": []
  }
 ],
 "metadata": {
  "kernelspec": {
   "display_name": "Python 3",
   "language": "python",
   "name": "python3"
  },
  "language_info": {
   "codemirror_mode": {
    "name": "ipython",
    "version": 3
   },
   "file_extension": ".py",
   "mimetype": "text/x-python",
   "name": "python",
   "nbconvert_exporter": "python",
   "pygments_lexer": "ipython3",
   "version": "3.7.3"
  }
 },
 "nbformat": 4,
 "nbformat_minor": 4
}
