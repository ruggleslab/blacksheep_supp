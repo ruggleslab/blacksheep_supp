{
 "cells": [
  {
   "cell_type": "code",
   "execution_count": 1,
   "metadata": {},
   "outputs": [],
   "source": [
    "import pandas as pd\n",
    "import numpy as np\n",
    "import pickle\n",
    "import scipy.stats\n",
    "import sys\n",
    "sys.path.insert(0, \"/Users/lili/dropbox_lili/common_functions/outlier_analysis/\")\n",
    "import blackSheepCPTACmodule as blsh\n",
    "import seaborn as sns"
   ]
  },
  {
   "cell_type": "code",
   "execution_count": 2,
   "metadata": {},
   "outputs": [],
   "source": [
    "test_in = pd.read_csv('tests/sample_endo.csv',index_col=0)"
   ]
  },
  {
   "cell_type": "code",
   "execution_count": 3,
   "metadata": {},
   "outputs": [],
   "source": [
    "test_in = test_in.dropna(thresh=100, axis=1)"
   ]
  },
  {
   "cell_type": "code",
   "execution_count": 4,
   "metadata": {},
   "outputs": [],
   "source": [
    "test_in.to_csv('tests/sample_endo.csv')"
   ]
  },
  {
   "cell_type": "code",
   "execution_count": 5,
   "metadata": {},
   "outputs": [],
   "source": [
    "outliers_table = blsh.make_outliers_table(test_in)"
   ]
  },
  {
   "cell_type": "code",
   "execution_count": 6,
   "metadata": {},
   "outputs": [],
   "source": [
    "outliers_table.to_csv('tests/sample_endo_outliers_table.csv')"
   ]
  },
  {
   "cell_type": "markdown",
   "metadata": {},
   "source": [
    "# Making test data by hand"
   ]
  },
  {
   "cell_type": "code",
   "execution_count": 13,
   "metadata": {},
   "outputs": [
    {
     "name": "stdout",
     "output_type": "stream",
     "text": [
      "Testing 1 rows for enrichment in comp0 0 samples\n",
      "Testing 3 rows for enrichment in comp0 1 samples\n",
      "Testing 2 rows for enrichment in comp1 0.0 samples\n",
      "Testing 2 rows for enrichment in comp1 1.0 samples\n",
      "Testing 1 rows for enrichment in comp2 1 samples\n",
      "Testing 2 rows for enrichment in comp2 0 samples\n",
      "No rows had outliers in at least 0.3 of comp3 1 samples\n",
      "Testing 2 rows for enrichment in comp3 0 samples\n",
      "No rows had outliers in at least 0.3 of comp4 1 samples\n",
      "Testing 2 rows for enrichment in comp4 0 samples\n"
     ]
    },
    {
     "data": {
      "text/html": [
       "<div>\n",
       "<style scoped>\n",
       "    .dataframe tbody tr th:only-of-type {\n",
       "        vertical-align: middle;\n",
       "    }\n",
       "\n",
       "    .dataframe tbody tr th {\n",
       "        vertical-align: top;\n",
       "    }\n",
       "\n",
       "    .dataframe thead th {\n",
       "        text-align: right;\n",
       "    }\n",
       "</style>\n",
       "<table border=\"1\" class=\"dataframe\">\n",
       "  <thead>\n",
       "    <tr style=\"text-align: right;\">\n",
       "      <th></th>\n",
       "      <th>comp0_0_enrichment_FDR</th>\n",
       "      <th>comp0_1_enrichment_FDR</th>\n",
       "      <th>comp1_0.0_enrichment_FDR</th>\n",
       "      <th>comp1_1.0_enrichment_FDR</th>\n",
       "      <th>comp2_1_enrichment_FDR</th>\n",
       "      <th>comp2_0_enrichment_FDR</th>\n",
       "      <th>comp3_0_enrichment_FDR</th>\n",
       "      <th>comp4_0_enrichment_FDR</th>\n",
       "    </tr>\n",
       "  </thead>\n",
       "  <tbody>\n",
       "    <tr>\n",
       "      <th>geneA</th>\n",
       "      <td>NaN</td>\n",
       "      <td>NaN</td>\n",
       "      <td>NaN</td>\n",
       "      <td>NaN</td>\n",
       "      <td>NaN</td>\n",
       "      <td>NaN</td>\n",
       "      <td>NaN</td>\n",
       "      <td>NaN</td>\n",
       "    </tr>\n",
       "    <tr>\n",
       "      <th>geneB</th>\n",
       "      <td>NaN</td>\n",
       "      <td>NaN</td>\n",
       "      <td>NaN</td>\n",
       "      <td>NaN</td>\n",
       "      <td>NaN</td>\n",
       "      <td>NaN</td>\n",
       "      <td>NaN</td>\n",
       "      <td>NaN</td>\n",
       "    </tr>\n",
       "    <tr>\n",
       "      <th>geneC</th>\n",
       "      <td>NaN</td>\n",
       "      <td>0.296653</td>\n",
       "      <td>NaN</td>\n",
       "      <td>NaN</td>\n",
       "      <td>NaN</td>\n",
       "      <td>NaN</td>\n",
       "      <td>NaN</td>\n",
       "      <td>NaN</td>\n",
       "    </tr>\n",
       "    <tr>\n",
       "      <th>geneD</th>\n",
       "      <td>0.287356</td>\n",
       "      <td>NaN</td>\n",
       "      <td>NaN</td>\n",
       "      <td>0.329502</td>\n",
       "      <td>NaN</td>\n",
       "      <td>0.005109</td>\n",
       "      <td>0.597701</td>\n",
       "      <td>NaN</td>\n",
       "    </tr>\n",
       "    <tr>\n",
       "      <th>geneE</th>\n",
       "      <td>NaN</td>\n",
       "      <td>NaN</td>\n",
       "      <td>NaN</td>\n",
       "      <td>NaN</td>\n",
       "      <td>NaN</td>\n",
       "      <td>NaN</td>\n",
       "      <td>NaN</td>\n",
       "      <td>NaN</td>\n",
       "    </tr>\n",
       "    <tr>\n",
       "      <th>geneF</th>\n",
       "      <td>NaN</td>\n",
       "      <td>NaN</td>\n",
       "      <td>NaN</td>\n",
       "      <td>0.195556</td>\n",
       "      <td>NaN</td>\n",
       "      <td>0.099891</td>\n",
       "      <td>NaN</td>\n",
       "      <td>NaN</td>\n",
       "    </tr>\n",
       "    <tr>\n",
       "      <th>geneG</th>\n",
       "      <td>NaN</td>\n",
       "      <td>NaN</td>\n",
       "      <td>NaN</td>\n",
       "      <td>NaN</td>\n",
       "      <td>NaN</td>\n",
       "      <td>NaN</td>\n",
       "      <td>NaN</td>\n",
       "      <td>NaN</td>\n",
       "    </tr>\n",
       "    <tr>\n",
       "      <th>geneH</th>\n",
       "      <td>NaN</td>\n",
       "      <td>0.003036</td>\n",
       "      <td>0.439416</td>\n",
       "      <td>NaN</td>\n",
       "      <td>1.0</td>\n",
       "      <td>NaN</td>\n",
       "      <td>0.597701</td>\n",
       "      <td>1.0</td>\n",
       "    </tr>\n",
       "    <tr>\n",
       "      <th>geneI</th>\n",
       "      <td>NaN</td>\n",
       "      <td>0.003036</td>\n",
       "      <td>0.164706</td>\n",
       "      <td>NaN</td>\n",
       "      <td>NaN</td>\n",
       "      <td>NaN</td>\n",
       "      <td>NaN</td>\n",
       "      <td>1.0</td>\n",
       "    </tr>\n",
       "  </tbody>\n",
       "</table>\n",
       "</div>"
      ],
      "text/plain": [
       "       comp0_0_enrichment_FDR  comp0_1_enrichment_FDR  \\\n",
       "geneA                     NaN                     NaN   \n",
       "geneB                     NaN                     NaN   \n",
       "geneC                     NaN                0.296653   \n",
       "geneD                0.287356                     NaN   \n",
       "geneE                     NaN                     NaN   \n",
       "geneF                     NaN                     NaN   \n",
       "geneG                     NaN                     NaN   \n",
       "geneH                     NaN                0.003036   \n",
       "geneI                     NaN                0.003036   \n",
       "\n",
       "       comp1_0.0_enrichment_FDR  comp1_1.0_enrichment_FDR  \\\n",
       "geneA                       NaN                       NaN   \n",
       "geneB                       NaN                       NaN   \n",
       "geneC                       NaN                       NaN   \n",
       "geneD                       NaN                  0.329502   \n",
       "geneE                       NaN                       NaN   \n",
       "geneF                       NaN                  0.195556   \n",
       "geneG                       NaN                       NaN   \n",
       "geneH                  0.439416                       NaN   \n",
       "geneI                  0.164706                       NaN   \n",
       "\n",
       "       comp2_1_enrichment_FDR  comp2_0_enrichment_FDR  comp3_0_enrichment_FDR  \\\n",
       "geneA                     NaN                     NaN                     NaN   \n",
       "geneB                     NaN                     NaN                     NaN   \n",
       "geneC                     NaN                     NaN                     NaN   \n",
       "geneD                     NaN                0.005109                0.597701   \n",
       "geneE                     NaN                     NaN                     NaN   \n",
       "geneF                     NaN                0.099891                     NaN   \n",
       "geneG                     NaN                     NaN                     NaN   \n",
       "geneH                     1.0                     NaN                0.597701   \n",
       "geneI                     NaN                     NaN                     NaN   \n",
       "\n",
       "       comp4_0_enrichment_FDR  \n",
       "geneA                     NaN  \n",
       "geneB                     NaN  \n",
       "geneC                     NaN  \n",
       "geneD                     NaN  \n",
       "geneE                     NaN  \n",
       "geneF                     NaN  \n",
       "geneG                     NaN  \n",
       "geneH                     1.0  \n",
       "geneI                     1.0  "
      ]
     },
     "execution_count": 13,
     "metadata": {},
     "output_type": "execute_result"
    }
   ],
   "source": [
    "iqrs = 1.5\n",
    "ind_sep = '-'\n",
    "\n",
    "np.random.seed(4)\n",
    "samples = ['s%s'%i for i in range(0, 18)]\n",
    "sites = [\n",
    "    'geneA-site1', \n",
    "    'geneB-site1', \n",
    "    'geneC-site1', \n",
    "    'geneC-site2', \n",
    "    'geneC-site3', \n",
    "    'geneD-site1', \n",
    "    'geneD-site2',\n",
    "    'geneE-site1', \n",
    "    'geneE-site2', \n",
    "    'geneE-site3', \n",
    "    'geneF-site1', \n",
    "    'geneF-site2',\n",
    "    'geneG-site1', \n",
    "    'geneG-site2', \n",
    "    'geneH-site1', \n",
    "    'geneH-site2',\n",
    "    'geneH-site3', \n",
    "    'geneH-site4', \n",
    "    'geneH-site5',\n",
    "    'geneH-site6'\n",
    "]\n",
    "comparisons = ['comp%s'%i for i in range(0, 5)]\n",
    "annotations = pd.DataFrame(np.random.randint(0,2,size=(len(samples), 5)), columns=comparisons, index=samples)\n",
    "annotations = annotations.mask(np.random.random(annotations.shape) < .02)\n",
    "\n",
    "annotations.loc[:, 'comp0'] = 0\n",
    "annotations.loc[['s9', 's10', 's11', 's14', 's15'], 'comp0'] = 1\n",
    "annotations.loc[:, 'comp2'] = 1\n",
    "annotations.loc[['s1', 's3', 's4', 's13'], 'comp2'] = 0\n",
    "\n",
    "df = pd.DataFrame(np.random.normal(0, 1, size=(18, 20)), index=samples, columns=sites)\n",
    "df = df.mask(np.random.random(df.shape) < .25)\n",
    "df[np.random.random(df.shape) < .15] = 3\n",
    "df[np.random.random(df.shape) < .15] = -3\n",
    "addcol = pd.Series([0, -0.1, 0.04, 0.15, -0.02, \n",
    "           0, 0.3, -0.5, -0.05, 4, \n",
    "           4, 10, 0.7, -0.25, 3, \n",
    "           -0.15, 0.15, -0.02], index=samples, name='geneI-site1')\n",
    "df = pd.concat([df, addcol], axis=1)\n",
    "# df.median().subtract(iqrs*scipy.stats.iqr(df, nan_policy=\"omit\", axis=0))\n",
    "\n",
    "outliers = blsh.make_outliers_table(df, aggregate=True)\n",
    "\n",
    "qvalues = blsh.compare_groups_outliers(outliers, annotations)\n",
    "\n",
    "qvalues"
   ]
  },
  {
   "cell_type": "code",
   "execution_count": 14,
   "metadata": {},
   "outputs": [],
   "source": [
    "fractable = blsh.makeFracTable(outliers.transpose(), df.index).transpose()"
   ]
  },
  {
   "cell_type": "code",
   "execution_count": 15,
   "metadata": {},
   "outputs": [
    {
     "data": {
      "image/png": "[encoded data removed]",
      "text/plain": [
       "<Figure size 432x288 with 1 Axes>"
      ]
     },
     "metadata": {
      "needs_background": "light"
     },
     "output_type": "display_data"
    }
   ],
   "source": [
    "for col in df.columns:\n",
    "    sns.distplot(df[col].dropna(), hist=False)"
   ]
  },
  {
   "cell_type": "code",
   "execution_count": 16,
   "metadata": {},
   "outputs": [],
   "source": [
    "qvalues.columns = ['fisherFDR_'+col.replace('_enrichment_FDR', '') for col in qvalues.columns]"
   ]
  },
  {
   "cell_type": "code",
   "execution_count": 17,
   "metadata": {},
   "outputs": [],
   "source": [
    "qvalues = qvalues.dropna(how='all')"
   ]
  },
  {
   "cell_type": "code",
   "execution_count": 18,
   "metadata": {},
   "outputs": [],
   "source": [
    "with open('tests/pidgin_example.pickle', 'wb') as fh:\n",
    "    pickle.dump([df, annotations, outliers, fractable, qvalues], fh)"
   ]
  },
  {
   "cell_type": "code",
   "execution_count": 20,
   "metadata": {},
   "outputs": [],
   "source": [
    "df.to_csv('tests/pidgin_values.csv')\n",
    "annotations.to_csv('tests/pidgin_annotations.csv')\n",
    "outliers.to_csv('tests/pidgin_outliers.csv')\n",
    "fractable.to_csv('tests/pidgin_fracTable.csv')\n",
    "qvalues.to_csv('tests/pidgin_qvalues.csv')"
   ]
  },
  {
   "cell_type": "code",
   "execution_count": 21,
   "metadata": {},
   "outputs": [],
   "source": [
    " with open(\"tests/pidgin_example.pickle\", \"rb\") as fh:\n",
    "        df, annotations, outliers, fractable, qvalues = pickle.load(fh)"
   ]
  },
  {
   "cell_type": "code",
   "execution_count": 22,
   "metadata": {},
   "outputs": [],
   "source": [
    "df = df.transpose()\n",
    "outliers = outliers.transpose()\n",
    "fractable = fractable.transpose()"
   ]
  },
  {
   "cell_type": "markdown",
   "metadata": {},
   "source": [
    "## Doing a transpose for inputs"
   ]
  },
  {
   "cell_type": "code",
   "execution_count": 23,
   "metadata": {},
   "outputs": [],
   "source": [
    "with open('tests/pidgin_example.pickle', 'wb') as fh:\n",
    "    pickle.dump([df, annotations, outliers, fractable, qvalues], fh)"
   ]
  },
  {
   "cell_type": "code",
   "execution_count": 24,
   "metadata": {},
   "outputs": [],
   "source": [
    "df.to_csv('tests/pidgin_values.csv')\n",
    "annotations.to_csv('tests/pidgin_annotations.csv')\n",
    "outliers.to_csv('tests/pidgin_outliers.csv')\n",
    "fractable.to_csv('tests/pidgin_fracTable.csv')\n",
    "qvalues.to_csv('tests/pidgin_qvalues.csv')"
   ]
  },
  {
   "cell_type": "markdown",
   "metadata": {},
   "source": [
    "# Endo data"
   ]
  },
  {
   "cell_type": "code",
   "execution_count": 23,
   "metadata": {},
   "outputs": [],
   "source": [
    "sys.path.insert(0, \".\")"
   ]
  },
  {
   "cell_type": "code",
   "execution_count": 24,
   "metadata": {},
   "outputs": [],
   "source": [
    "import blacksheep"
   ]
  },
  {
   "cell_type": "code",
   "execution_count": 25,
   "metadata": {},
   "outputs": [
    {
     "data": {
      "text/plain": [
       "<module 'blacksheep' from './blacksheep/__init__.py'>"
      ]
     },
     "execution_count": 25,
     "metadata": {},
     "output_type": "execute_result"
    }
   ],
   "source": [
    "import importlib\n",
    "importlib.reload(blacksheep)"
   ]
  },
  {
   "cell_type": "code",
   "execution_count": 26,
   "metadata": {},
   "outputs": [],
   "source": [
    "annot = pd.read_csv('/Users/lili/dropbox_lili/cptac/endometrial/data/UCEC_CPTAC3_meta_table_V2.1.txt', \n",
    "                    sep='\\t', encoding=\"cp1252\", index_col=0)"
   ]
  },
  {
   "cell_type": "code",
   "execution_count": 27,
   "metadata": {},
   "outputs": [],
   "source": [
    "df = pd.read_csv('tests/sample_endo.csv', index_col=0)"
   ]
  },
  {
   "cell_type": "code",
   "execution_count": 28,
   "metadata": {},
   "outputs": [],
   "source": [
    "subset = annot.loc[df.index, ['Histologic_type', 'MSI_status', 'POLE_subtype']]"
   ]
  },
  {
   "cell_type": "code",
   "execution_count": 29,
   "metadata": {},
   "outputs": [],
   "source": [
    "subset = blacksheep.binarizeAnnotations(subset)"
   ]
  },
  {
   "cell_type": "code",
   "execution_count": 30,
   "metadata": {},
   "outputs": [],
   "source": [
    "subset.to_csv('tests/sample_annotations.csv')"
   ]
  },
  {
   "cell_type": "markdown",
   "metadata": {},
   "source": [
    "## Swapping axes for endo"
   ]
  },
  {
   "cell_type": "code",
   "execution_count": 27,
   "metadata": {},
   "outputs": [],
   "source": [
    "outs = pd.read_csv('tests/sample_endo_outliers_table.csv', index_col=0)\n",
    "outs = outs.transpose()\n",
    "df = pd.read_csv('tests/sample_endo.csv', index_col=0)\n",
    "df = df.transpose()\n",
    "frac = pd.read_csv('tests/sample_endo.up.fraction_table.tsv', index_col=0, sep='\\t')\n",
    "frac = frac.transpose()"
   ]
  },
  {
   "cell_type": "code",
   "execution_count": 36,
   "metadata": {},
   "outputs": [],
   "source": [
    "outs.to_csv('tests/sample_endo_outliers_table.csv')\n",
    "df.to_csv('tests/sample_endo.csv')\n",
    "frac.to_csv('tests/sample_endo.up.fraction_table.tsv', sep='\\t')"
   ]
  },
  {
   "cell_type": "code",
   "execution_count": null,
   "metadata": {},
   "outputs": [],
   "source": []
  }
 ],
 "metadata": {
  "kernelspec": {
   "display_name": "Python 3",
   "language": "python",
   "name": "python3"
  },
  "language_info": {
   "codemirror_mode": {
    "name": "ipython",
    "version": 3
   },
   "file_extension": ".py",
   "mimetype": "text/x-python",
   "name": "python",
   "nbconvert_exporter": "python",
   "pygments_lexer": "ipython3",
   "version": "3.7.3"
  }
 },
 "nbformat": 4,
 "nbformat_minor": 4
}
