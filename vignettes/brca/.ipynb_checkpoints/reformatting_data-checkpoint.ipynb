{
 "cells": [
  {
   "cell_type": "code",
   "execution_count": 2,
   "metadata": {},
   "outputs": [],
   "source": [
    "import pandas as pd\n",
    "from matplotlib_venn import venn2, venn3"
   ]
  },
  {
   "cell_type": "markdown",
   "metadata": {},
   "source": [
    "# CNA"
   ]
  },
  {
   "cell_type": "code",
   "execution_count": 3,
   "metadata": {},
   "outputs": [],
   "source": [
    "cna = pd.read_csv('TCGA2012/data_CNA.txt', sep='\\t', index_col=0)"
   ]
  },
  {
   "cell_type": "markdown",
   "metadata": {},
   "source": [
    "##### Checking for duplicated samples"
   ]
  },
  {
   "cell_type": "code",
   "execution_count": 4,
   "metadata": {},
   "outputs": [],
   "source": [
    "cna = cna[cna.columns[1:]]"
   ]
  },
  {
   "cell_type": "code",
   "execution_count": 5,
   "metadata": {},
   "outputs": [],
   "source": [
    "cna.columns = cna.columns.str.rsplit('-', 1).str[0]"
   ]
  },
  {
   "cell_type": "code",
   "execution_count": 6,
   "metadata": {},
   "outputs": [],
   "source": [
    "cna_samples = cna.columns"
   ]
  },
  {
   "cell_type": "code",
   "execution_count": 11,
   "metadata": {},
   "outputs": [
    {
     "data": {
      "text/plain": [
       "Index([], dtype='object')"
      ]
     },
     "execution_count": 11,
     "metadata": {},
     "output_type": "execute_result"
    }
   ],
   "source": [
    "cna_samples[cna_samples.duplicated()]"
   ]
  },
  {
   "cell_type": "markdown",
   "metadata": {},
   "source": [
    "##### Checking for duplicated genes"
   ]
  },
  {
   "cell_type": "code",
   "execution_count": 7,
   "metadata": {},
   "outputs": [
    {
     "data": {
      "text/plain": [
       "Index([], dtype='object', name='Hugo_Symbol')"
      ]
     },
     "execution_count": 7,
     "metadata": {},
     "output_type": "execute_result"
    }
   ],
   "source": [
    "cna.index[cna.index.duplicated()]"
   ]
  },
  {
   "cell_type": "code",
   "execution_count": 8,
   "metadata": {},
   "outputs": [],
   "source": [
    "with open(\"cna_samples.txt\", \"w\") as fh:\n",
    "    for samp in cna_samples:\n",
    "        fh.write(\"%s\\n\"%samp)"
   ]
  },
  {
   "cell_type": "code",
   "execution_count": 9,
   "metadata": {},
   "outputs": [],
   "source": [
    "cna.to_csv('cna_data.csv')"
   ]
  },
  {
   "cell_type": "markdown",
   "metadata": {},
   "source": [
    "# RNA"
   ]
  },
  {
   "cell_type": "code",
   "execution_count": 12,
   "metadata": {},
   "outputs": [],
   "source": [
    "rna = pd.read_csv('TCGA2012/data_expression_median.txt', sep='\\t', index_col=0)"
   ]
  },
  {
   "cell_type": "markdown",
   "metadata": {},
   "source": [
    "##### Checking for duplicated genes"
   ]
  },
  {
   "cell_type": "code",
   "execution_count": 13,
   "metadata": {},
   "outputs": [
    {
     "data": {
      "text/plain": [
       "Index([], dtype='object', name='Hugo_Symbol')"
      ]
     },
     "execution_count": 13,
     "metadata": {},
     "output_type": "execute_result"
    }
   ],
   "source": [
    "rna.index[rna.index.duplicated()]"
   ]
  },
  {
   "cell_type": "markdown",
   "metadata": {},
   "source": [
    "##### Checking for duplicated samples"
   ]
  },
  {
   "cell_type": "code",
   "execution_count": 15,
   "metadata": {},
   "outputs": [],
   "source": [
    "rna = rna[rna.columns[1:]]"
   ]
  },
  {
   "cell_type": "code",
   "execution_count": 19,
   "metadata": {},
   "outputs": [],
   "source": [
    "rna.columns = rna.columns.str.rsplit('-', 1).str[0]"
   ]
  },
  {
   "cell_type": "code",
   "execution_count": 20,
   "metadata": {},
   "outputs": [
    {
     "data": {
      "text/plain": [
       "Index([], dtype='object')"
      ]
     },
     "execution_count": 20,
     "metadata": {},
     "output_type": "execute_result"
    }
   ],
   "source": [
    "rna.columns[rna.columns.duplicated()]"
   ]
  },
  {
   "cell_type": "code",
   "execution_count": 21,
   "metadata": {},
   "outputs": [],
   "source": [
    "rna_samples = rna.columns"
   ]
  },
  {
   "cell_type": "code",
   "execution_count": 23,
   "metadata": {},
   "outputs": [
    {
     "data": {
      "text/plain": [
       "<matplotlib_venn._common.VennDiagram at 0x10203b1390>"
      ]
     },
     "execution_count": 23,
     "metadata": {},
     "output_type": "execute_result"
    },
    {
     "data": {
      "image/png": "[encoded data removed]",
      "text/plain": [
       "<Figure size 432x288 with 1 Axes>"
      ]
     },
     "metadata": {},
     "output_type": "display_data"
    }
   ],
   "source": [
    "venn2([set(rna_samples), set(cna_samples)], set_labels=['RNA samples', 'CNA samples'])"
   ]
  },
  {
   "cell_type": "code",
   "execution_count": 24,
   "metadata": {},
   "outputs": [],
   "source": [
    "with open(\"rna_samples.txt\", \"w\") as fh:\n",
    "    for samp in rna_samples:\n",
    "        fh.write(\"%s\\n\"%samp)"
   ]
  },
  {
   "cell_type": "code",
   "execution_count": 25,
   "metadata": {},
   "outputs": [],
   "source": [
    "rna.to_csv('rna_data.csv')"
   ]
  },
  {
   "cell_type": "code",
   "execution_count": 38,
   "metadata": {},
   "outputs": [
    {
     "data": {
      "text/plain": [
       "Index(['TCGA-A1-A0SD', 'TCGA-A1-A0SE', 'TCGA-A1-A0SH', 'TCGA-A1-A0SJ',\n",
       "       'TCGA-A1-A0SK', 'TCGA-A1-A0SM', 'TCGA-A1-A0SO', 'TCGA-A1-A0SP',\n",
       "       'TCGA-A2-A04N', 'TCGA-A2-A04P',\n",
       "       ...\n",
       "       'TCGA-E2-A15S', 'TCGA-E2-A15T', 'TCGA-E2-A1AZ', 'TCGA-E2-A1B0',\n",
       "       'TCGA-E2-A1B1', 'TCGA-E2-A1B4', 'TCGA-E2-A1B5', 'TCGA-E2-A1B6',\n",
       "       'TCGA-E2-A1BC', 'TCGA-E2-A1BD'],\n",
       "      dtype='object', length=526)"
      ]
     },
     "execution_count": 38,
     "metadata": {},
     "output_type": "execute_result"
    }
   ],
   "source": [
    "rna_samples"
   ]
  },
  {
   "cell_type": "markdown",
   "metadata": {},
   "source": [
    "# Protein"
   ]
  },
  {
   "cell_type": "code",
   "execution_count": 250,
   "metadata": {},
   "outputs": [],
   "source": [
    "prot = pd.read_csv(\"CPTAC2016/CPTAC_supp3_global_proteome.csv\", index_col=0)"
   ]
  },
  {
   "cell_type": "markdown",
   "metadata": {},
   "source": [
    "##### Genes are not duplicated"
   ]
  },
  {
   "cell_type": "code",
   "execution_count": 251,
   "metadata": {},
   "outputs": [
    {
     "data": {
      "text/plain": [
       "Index([], dtype='object', name='accession_number')"
      ]
     },
     "execution_count": 251,
     "metadata": {},
     "output_type": "execute_result"
    }
   ],
   "source": [
    "prot.index[prot.index.duplicated()]"
   ]
  },
  {
   "cell_type": "code",
   "execution_count": 252,
   "metadata": {},
   "outputs": [
    {
     "data": {
      "text/plain": [
       "Index([], dtype='object', name='accession_number')"
      ]
     },
     "execution_count": 252,
     "metadata": {},
     "output_type": "execute_result"
    }
   ],
   "source": [
    "prot.index[prot.index.isnull()]"
   ]
  },
  {
   "cell_type": "code",
   "execution_count": 253,
   "metadata": {},
   "outputs": [],
   "source": [
    "prot = prot[prot.columns[11:-3]]"
   ]
  },
  {
   "cell_type": "markdown",
   "metadata": {},
   "source": [
    "##### There are duplicated patient samples, removing samples with more missing values"
   ]
  },
  {
   "cell_type": "code",
   "execution_count": 254,
   "metadata": {},
   "outputs": [
    {
     "data": {
      "text/plain": [
       "AO-A12B.01TCGA    1219\n",
       "AO-A12B.34TCGA    1076\n",
       "AO-A12D.01TCGA    1219\n",
       "AO-A12D.05TCGA    1277\n",
       "C8-A131.01TCGA    1218\n",
       "C8-A131.32TCGA    1156\n",
       "dtype: int64"
      ]
     },
     "execution_count": 254,
     "metadata": {},
     "output_type": "execute_result"
    }
   ],
   "source": [
    "prot[prot.columns[('TCGA-' + prot.columns.str.split('.').str[0]).duplicated(keep=False)]].isnull().sum().sort_index()"
   ]
  },
  {
   "cell_type": "code",
   "execution_count": 255,
   "metadata": {},
   "outputs": [],
   "source": [
    "prot = prot.drop(['AO-A12B.01TCGA', 'AO-A12D.05TCGA', 'C8-A131.01TCGA'], axis=1)"
   ]
  },
  {
   "cell_type": "code",
   "execution_count": 256,
   "metadata": {},
   "outputs": [
    {
     "data": {
      "text/plain": [
       "Index([], dtype='object')"
      ]
     },
     "execution_count": 256,
     "metadata": {},
     "output_type": "execute_result"
    }
   ],
   "source": [
    "prot.columns[('TCGA-' + prot.columns.str.split('.').str[0]).duplicated(keep=False)]"
   ]
  },
  {
   "cell_type": "code",
   "execution_count": 257,
   "metadata": {},
   "outputs": [],
   "source": [
    "prot.columns = ('TCGA-' + prot.columns.str.split('.').str[0])"
   ]
  },
  {
   "cell_type": "code",
   "execution_count": 258,
   "metadata": {},
   "outputs": [],
   "source": [
    "prot_samples = prot.columns"
   ]
  },
  {
   "cell_type": "code",
   "execution_count": 259,
   "metadata": {},
   "outputs": [
    {
     "data": {
      "text/plain": [
       "<matplotlib_venn._common.VennDiagram at 0x103e2d8a90>"
      ]
     },
     "execution_count": 259,
     "metadata": {},
     "output_type": "execute_result"
    },
    {
     "data": {
      "image/png": "[encoded data removed]",
      "text/plain": [
       "<Figure size 432x288 with 1 Axes>"
      ]
     },
     "metadata": {},
     "output_type": "display_data"
    }
   ],
   "source": [
    "venn3([set(cna_samples), set(rna_samples), set(prot_samples)], set_labels=['CNA samples', 'RNA samples', 'Prot samples'])"
   ]
  },
  {
   "cell_type": "code",
   "execution_count": 261,
   "metadata": {},
   "outputs": [],
   "source": [
    "prot.to_csv('protein_data.csv')"
   ]
  },
  {
   "cell_type": "code",
   "execution_count": 262,
   "metadata": {},
   "outputs": [],
   "source": [
    "with open(\"protein_samples.txt\", \"w\") as fh:\n",
    "    for samp in prot_samples:\n",
    "        fh.write(\"%s\\n\"%samp)"
   ]
  },
  {
   "cell_type": "markdown",
   "metadata": {},
   "source": [
    "# Phospho"
   ]
  },
  {
   "cell_type": "code",
   "execution_count": 151,
   "metadata": {},
   "outputs": [],
   "source": [
    "phospho = pd.read_csv('CPTAC2016/CPTAC_supp4_phosphoproteome.csv')"
   ]
  },
  {
   "cell_type": "code",
   "execution_count": 152,
   "metadata": {},
   "outputs": [],
   "source": [
    "phospho['index'] = phospho['accession_number']+'-'+phospho['variableSites']"
   ]
  },
  {
   "cell_type": "markdown",
   "metadata": {},
   "source": [
    "##### Removing exact peptide duplicates"
   ]
  },
  {
   "cell_type": "code",
   "execution_count": 173,
   "metadata": {},
   "outputs": [],
   "source": [
    "phospho['seq_len'] = phospho['sequence'].str.len()\n",
    "temp1 = phospho.loc[phospho['index'].duplicated(keep=False), :].sort_values('index')\n",
    "temp2 = temp1[temp1.groupby(by=['index'])['seq_len'].transform(max) == temp1['seq_len']]"
   ]
  },
  {
   "cell_type": "code",
   "execution_count": 179,
   "metadata": {},
   "outputs": [
    {
     "data": {
      "text/plain": [
       "(961, 141)"
      ]
     },
     "execution_count": 179,
     "metadata": {},
     "output_type": "execute_result"
    }
   ],
   "source": [
    "temp2.shape"
   ]
  },
  {
   "cell_type": "code",
   "execution_count": 183,
   "metadata": {},
   "outputs": [],
   "source": [
    "temp3 = temp2[temp2.groupby(by=['index'])['bestScore'].transform(max) == temp2['bestScore']]"
   ]
  },
  {
   "cell_type": "code",
   "execution_count": 190,
   "metadata": {},
   "outputs": [],
   "source": [
    "prot = pd.read_csv(\"CPTAC2016/CPTAC_supp3_global_proteome.csv\", index_col=0)"
   ]
  },
  {
   "cell_type": "code",
   "execution_count": 199,
   "metadata": {},
   "outputs": [
    {
     "data": {
      "text/plain": [
       "18105    83\n",
       "18104    83\n",
       "40101    21\n",
       "40100    67\n",
       "dtype: int64"
      ]
     },
     "execution_count": 199,
     "metadata": {},
     "output_type": "execute_result"
    }
   ],
   "source": [
    "temp3[temp3['index'].duplicated(keep=False)][prot.columns[11:]].isnull().sum(axis=1)"
   ]
  },
  {
   "cell_type": "code",
   "execution_count": 203,
   "metadata": {},
   "outputs": [],
   "source": [
    "temp3 = temp3.drop([18105, 40100], axis=0)"
   ]
  },
  {
   "cell_type": "code",
   "execution_count": 204,
   "metadata": {},
   "outputs": [
    {
     "data": {
      "text/html": [
       "<div>\n",
       "<style scoped>\n",
       "    .dataframe tbody tr th:only-of-type {\n",
       "        vertical-align: middle;\n",
       "    }\n",
       "\n",
       "    .dataframe tbody tr th {\n",
       "        vertical-align: top;\n",
       "    }\n",
       "\n",
       "    .dataframe thead th {\n",
       "        text-align: right;\n",
       "    }\n",
       "</style>\n",
       "<table border=\"1\" class=\"dataframe\">\n",
       "  <thead>\n",
       "    <tr style=\"text-align: right;\">\n",
       "      <th></th>\n",
       "      <th>accessionNumber_VMsites_numVMsitesPresent_numVMsitesLocalizedBest_earliestVMsiteAA_latestVMsiteAA</th>\n",
       "      <th>numITRAQExperimentsVMsiteObserved</th>\n",
       "      <th>numSpectraVMsiteObserved</th>\n",
       "      <th>bestFilename</th>\n",
       "      <th>bestScore</th>\n",
       "      <th>bestDeltaForwardReverseScore</th>\n",
       "      <th>Best_scoreVML</th>\n",
       "      <th>Best_numPossibleVMsites_STY</th>\n",
       "      <th>Best_numActualVMSites_sty</th>\n",
       "      <th>Best_numLocalizedVMsites_sty</th>\n",
       "      <th>...</th>\n",
       "      <th>AO-A0JL.35TCGA</th>\n",
       "      <th>BH-A0BV.35TCGA</th>\n",
       "      <th>A2-A0YM.36TCGA</th>\n",
       "      <th>BH-A0C7.36TCGA</th>\n",
       "      <th>A2-A0SX.36TCGA</th>\n",
       "      <th>263d3f-I.CPTAC</th>\n",
       "      <th>blcdb9-I.CPTAC</th>\n",
       "      <th>c4155b-C.CPTAC</th>\n",
       "      <th>index</th>\n",
       "      <th>seq_len</th>\n",
       "    </tr>\n",
       "  </thead>\n",
       "  <tbody>\n",
       "  </tbody>\n",
       "</table>\n",
       "<p>0 rows × 141 columns</p>\n",
       "</div>"
      ],
      "text/plain": [
       "Empty DataFrame\n",
       "Columns: [accessionNumber_VMsites_numVMsitesPresent_numVMsitesLocalizedBest_earliestVMsiteAA_latestVMsiteAA, numITRAQExperimentsVMsiteObserved, numSpectraVMsiteObserved, bestFilename, bestScore, bestDeltaForwardReverseScore, Best_scoreVML, Best_numPossibleVMsites_STY, Best_numActualVMSites_sty, Best_numLocalizedVMsites_sty, Best_numAmbiguousVMsites_sty, best_matched_parent_mass, best_delta_parent_mass, variableSites, nterm, StartAA, previous_aa, sequence, next_aa, sequenceVML, protein_mw, species, accession_numbers, protein_group_num, protein_score, accession_number, geneName, Description, AO-A12D.01TCGA, C8-A131.01TCGA, AO-A12B.01TCGA, E2-A10A.02TCGA, BH-A18Q.02TCGA, C8-A130.02TCGA, C8-A138.03TCGA, E2-A154.03TCGA, BH-A0BZ.03TCGA, A8-A09I.04TCGA, C8-A12L.04TCGA, A2-A0EX.04TCGA, AO-A12D.05TCGA, AN-A04A.05TCGA, BH-A0AV.05TCGA, A2-A0D0.06TCGA, BH-A0HK.06TCGA, C8-A12T.06TCGA, A8-A06Z.07TCGA, A2-A0D1.07TCGA, A2-A0CM.07TCGA, BH-A18U.08TCGA, A2-A0YI.08TCGA, A2-A0EQ.08TCGA, AR-A0TY.09TCGA, AR-A0U4.09TCGA, BH-A0HP.09TCGA, BH-A0EE.10TCGA, AO-A0J9.10TCGA, BH-A0E0.10TCGA, AR-A1AP.11TCGA, AN-A0FK.11TCGA, AO-A0J6.11TCGA, BH-A18V.12TCGA, A7-A13F.12TCGA, BH-A0E1.12TCGA, A7-A0CE.13TCGA, BH-A0C0.13TCGA, A2-A0YC.13TCGA, AO-A0JC.14TCGA, A8-A08Z.14TCGA, AR-A0TX.14TCGA, D8-A13Y.15TCGA, A8-A076.15TCGA, AO-A126.15TCGA, C8-A12P.16TCGA, BH-A0C1.16TCGA, A2-A0EY.16TCGA, AR-A1AW.17TCGA, AR-A1AV.17TCGA, C8-A135.17TCGA, A2-A0EV.18TCGA, AN-A0AM.18TCGA, D8-A142.18TCGA, AN-A0FL.19TCGA, BH-A0DG.19TCGA, AN-A0AS.19TCGA, AR-A0TV.20TCGA, C8-A12Z.20TCGA, AO-A0JJ.20TCGA, AO-A0JE.21TCGA, A2-A0T2.21TCGA, AN-A0AJ.21TCGA, A7-A0CJ.22TCGA, AO-A12F.22TCGA, A2-A0YL.22TCGA, A2-A0T7.23TCGA, C8-A12Q.23TCGA, A8-A079.23TCGA, E2-A159.24TCGA, A2-A0T3.24TCGA, A2-A0YD.24TCGA, ...]\n",
       "Index: []\n",
       "\n",
       "[0 rows x 141 columns]"
      ]
     },
     "execution_count": 204,
     "metadata": {},
     "output_type": "execute_result"
    }
   ],
   "source": [
    "temp3[temp3['index'].duplicated(keep=False)]"
   ]
  },
  {
   "cell_type": "code",
   "execution_count": 208,
   "metadata": {},
   "outputs": [],
   "source": [
    "phospho = phospho.drop_duplicates(keep=False, subset='index')"
   ]
  },
  {
   "cell_type": "code",
   "execution_count": 210,
   "metadata": {},
   "outputs": [
    {
     "data": {
      "text/plain": [
       "(61586, 141)"
      ]
     },
     "execution_count": 210,
     "metadata": {},
     "output_type": "execute_result"
    }
   ],
   "source": [
    "phospho.shape"
   ]
  },
  {
   "cell_type": "code",
   "execution_count": 211,
   "metadata": {},
   "outputs": [
    {
     "data": {
      "text/plain": [
       "(544, 141)"
      ]
     },
     "execution_count": 211,
     "metadata": {},
     "output_type": "execute_result"
    }
   ],
   "source": [
    "temp3.shape"
   ]
  },
  {
   "cell_type": "code",
   "execution_count": 213,
   "metadata": {},
   "outputs": [
    {
     "data": {
      "text/plain": [
       "(62130, 141)"
      ]
     },
     "execution_count": 213,
     "metadata": {},
     "output_type": "execute_result"
    }
   ],
   "source": [
    "phospho.append(temp3).shape"
   ]
  },
  {
   "cell_type": "code",
   "execution_count": 214,
   "metadata": {},
   "outputs": [],
   "source": [
    "phospho = phospho.append(temp3)"
   ]
  },
  {
   "cell_type": "code",
   "execution_count": 215,
   "metadata": {},
   "outputs": [
    {
     "data": {
      "text/html": [
       "<div>\n",
       "<style scoped>\n",
       "    .dataframe tbody tr th:only-of-type {\n",
       "        vertical-align: middle;\n",
       "    }\n",
       "\n",
       "    .dataframe tbody tr th {\n",
       "        vertical-align: top;\n",
       "    }\n",
       "\n",
       "    .dataframe thead th {\n",
       "        text-align: right;\n",
       "    }\n",
       "</style>\n",
       "<table border=\"1\" class=\"dataframe\">\n",
       "  <thead>\n",
       "    <tr style=\"text-align: right;\">\n",
       "      <th></th>\n",
       "      <th>accessionNumber_VMsites_numVMsitesPresent_numVMsitesLocalizedBest_earliestVMsiteAA_latestVMsiteAA</th>\n",
       "      <th>numITRAQExperimentsVMsiteObserved</th>\n",
       "      <th>numSpectraVMsiteObserved</th>\n",
       "      <th>bestFilename</th>\n",
       "      <th>bestScore</th>\n",
       "      <th>bestDeltaForwardReverseScore</th>\n",
       "      <th>Best_scoreVML</th>\n",
       "      <th>Best_numPossibleVMsites_STY</th>\n",
       "      <th>Best_numActualVMSites_sty</th>\n",
       "      <th>Best_numLocalizedVMsites_sty</th>\n",
       "      <th>...</th>\n",
       "      <th>AO-A0JL.35TCGA</th>\n",
       "      <th>BH-A0BV.35TCGA</th>\n",
       "      <th>A2-A0YM.36TCGA</th>\n",
       "      <th>BH-A0C7.36TCGA</th>\n",
       "      <th>A2-A0SX.36TCGA</th>\n",
       "      <th>263d3f-I.CPTAC</th>\n",
       "      <th>blcdb9-I.CPTAC</th>\n",
       "      <th>c4155b-C.CPTAC</th>\n",
       "      <th>index</th>\n",
       "      <th>seq_len</th>\n",
       "    </tr>\n",
       "  </thead>\n",
       "  <tbody>\n",
       "  </tbody>\n",
       "</table>\n",
       "<p>0 rows × 141 columns</p>\n",
       "</div>"
      ],
      "text/plain": [
       "Empty DataFrame\n",
       "Columns: [accessionNumber_VMsites_numVMsitesPresent_numVMsitesLocalizedBest_earliestVMsiteAA_latestVMsiteAA, numITRAQExperimentsVMsiteObserved, numSpectraVMsiteObserved, bestFilename, bestScore, bestDeltaForwardReverseScore, Best_scoreVML, Best_numPossibleVMsites_STY, Best_numActualVMSites_sty, Best_numLocalizedVMsites_sty, Best_numAmbiguousVMsites_sty, best_matched_parent_mass, best_delta_parent_mass, variableSites, nterm, StartAA, previous_aa, sequence, next_aa, sequenceVML, protein_mw, species, accession_numbers, protein_group_num, protein_score, accession_number, geneName, Description, AO-A12D.01TCGA, C8-A131.01TCGA, AO-A12B.01TCGA, E2-A10A.02TCGA, BH-A18Q.02TCGA, C8-A130.02TCGA, C8-A138.03TCGA, E2-A154.03TCGA, BH-A0BZ.03TCGA, A8-A09I.04TCGA, C8-A12L.04TCGA, A2-A0EX.04TCGA, AO-A12D.05TCGA, AN-A04A.05TCGA, BH-A0AV.05TCGA, A2-A0D0.06TCGA, BH-A0HK.06TCGA, C8-A12T.06TCGA, A8-A06Z.07TCGA, A2-A0D1.07TCGA, A2-A0CM.07TCGA, BH-A18U.08TCGA, A2-A0YI.08TCGA, A2-A0EQ.08TCGA, AR-A0TY.09TCGA, AR-A0U4.09TCGA, BH-A0HP.09TCGA, BH-A0EE.10TCGA, AO-A0J9.10TCGA, BH-A0E0.10TCGA, AR-A1AP.11TCGA, AN-A0FK.11TCGA, AO-A0J6.11TCGA, BH-A18V.12TCGA, A7-A13F.12TCGA, BH-A0E1.12TCGA, A7-A0CE.13TCGA, BH-A0C0.13TCGA, A2-A0YC.13TCGA, AO-A0JC.14TCGA, A8-A08Z.14TCGA, AR-A0TX.14TCGA, D8-A13Y.15TCGA, A8-A076.15TCGA, AO-A126.15TCGA, C8-A12P.16TCGA, BH-A0C1.16TCGA, A2-A0EY.16TCGA, AR-A1AW.17TCGA, AR-A1AV.17TCGA, C8-A135.17TCGA, A2-A0EV.18TCGA, AN-A0AM.18TCGA, D8-A142.18TCGA, AN-A0FL.19TCGA, BH-A0DG.19TCGA, AN-A0AS.19TCGA, AR-A0TV.20TCGA, C8-A12Z.20TCGA, AO-A0JJ.20TCGA, AO-A0JE.21TCGA, A2-A0T2.21TCGA, AN-A0AJ.21TCGA, A7-A0CJ.22TCGA, AO-A12F.22TCGA, A2-A0YL.22TCGA, A2-A0T7.23TCGA, C8-A12Q.23TCGA, A8-A079.23TCGA, E2-A159.24TCGA, A2-A0T3.24TCGA, A2-A0YD.24TCGA, ...]\n",
       "Index: []\n",
       "\n",
       "[0 rows x 141 columns]"
      ]
     },
     "execution_count": 215,
     "metadata": {},
     "output_type": "execute_result"
    }
   ],
   "source": [
    "phospho[phospho['index'].duplicated()]"
   ]
  },
  {
   "cell_type": "code",
   "execution_count": 217,
   "metadata": {},
   "outputs": [],
   "source": [
    "phospho = phospho.set_index('index')"
   ]
  },
  {
   "cell_type": "markdown",
   "metadata": {},
   "source": [
    "##### Removing duplicate samples from same patient"
   ]
  },
  {
   "cell_type": "code",
   "execution_count": 225,
   "metadata": {},
   "outputs": [],
   "source": [
    "phospho = phospho[phospho.columns[28:-4]]"
   ]
  },
  {
   "cell_type": "code",
   "execution_count": 233,
   "metadata": {},
   "outputs": [
    {
     "data": {
      "text/plain": [
       "Index(['AO-A12D.01TCGA', 'C8-A131.01TCGA', 'AO-A12B.01TCGA', 'AO-A12D.05TCGA',\n",
       "       'C8-A131.32TCGA', 'AO-A12B.34TCGA'],\n",
       "      dtype='object')"
      ]
     },
     "execution_count": 233,
     "metadata": {},
     "output_type": "execute_result"
    }
   ],
   "source": [
    "phospho.columns[('TCGA-'+phospho.columns.str.split('.').str[0]).duplicated(keep=False)]"
   ]
  },
  {
   "cell_type": "code",
   "execution_count": 235,
   "metadata": {},
   "outputs": [
    {
     "data": {
      "text/plain": [
       "AO-A12B.01TCGA    33096\n",
       "AO-A12B.34TCGA    32527\n",
       "AO-A12D.01TCGA    33079\n",
       "AO-A12D.05TCGA    33424\n",
       "C8-A131.01TCGA    33076\n",
       "C8-A131.32TCGA    45180\n",
       "dtype: int64"
      ]
     },
     "execution_count": 235,
     "metadata": {},
     "output_type": "execute_result"
    }
   ],
   "source": [
    "phospho[phospho.columns[('TCGA-'+phospho.columns.str.split('.').str[0]).duplicated(keep=False)]].isnull().sum().sort_index()"
   ]
  },
  {
   "cell_type": "code",
   "execution_count": 238,
   "metadata": {},
   "outputs": [],
   "source": [
    "phospho = phospho.drop(['AO-A12B.01TCGA', 'AO-A12D.05TCGA', 'C8-A131.32TCGA'], axis=1)"
   ]
  },
  {
   "cell_type": "code",
   "execution_count": 239,
   "metadata": {},
   "outputs": [
    {
     "data": {
      "text/plain": [
       "Index([], dtype='object')"
      ]
     },
     "execution_count": 239,
     "metadata": {},
     "output_type": "execute_result"
    }
   ],
   "source": [
    "phospho.columns[('TCGA-'+phospho.columns.str.split('.').str[0]).duplicated(keep=False)]"
   ]
  },
  {
   "cell_type": "code",
   "execution_count": 240,
   "metadata": {},
   "outputs": [],
   "source": [
    "phospho.columns = ('TCGA-'+phospho.columns.str.split('.').str[0])"
   ]
  },
  {
   "cell_type": "code",
   "execution_count": 242,
   "metadata": {},
   "outputs": [],
   "source": [
    "phospho_samples = phospho.columns"
   ]
  },
  {
   "cell_type": "code",
   "execution_count": 243,
   "metadata": {},
   "outputs": [],
   "source": [
    "phospho.to_csv('phospho_data.csv')"
   ]
  },
  {
   "cell_type": "code",
   "execution_count": 245,
   "metadata": {},
   "outputs": [
    {
     "data": {
      "text/plain": [
       "<matplotlib_venn._common.VennDiagram at 0x103e01d198>"
      ]
     },
     "execution_count": 245,
     "metadata": {},
     "output_type": "execute_result"
    },
    {
     "data": {
      "image/png": "[encoded data removed]",
      "text/plain": [
       "<Figure size 432x288 with 1 Axes>"
      ]
     },
     "metadata": {},
     "output_type": "display_data"
    }
   ],
   "source": [
    "venn3([set(phospho_samples), set(prot_samples), set(rna_samples)], ['Phospho', 'Prot', 'RNA'])"
   ]
  },
  {
   "cell_type": "code",
   "execution_count": 246,
   "metadata": {},
   "outputs": [
    {
     "data": {
      "text/plain": [
       "Index(['TCGA-E2-A15A'], dtype='object')"
      ]
     },
     "execution_count": 246,
     "metadata": {},
     "output_type": "execute_result"
    }
   ],
   "source": [
    "prot_samples.difference(rna_samples)"
   ]
  },
  {
   "cell_type": "code",
   "execution_count": 263,
   "metadata": {},
   "outputs": [
    {
     "data": {
      "text/plain": [
       "Index(['TCGA-E2-A15A'], dtype='object')"
      ]
     },
     "execution_count": 263,
     "metadata": {},
     "output_type": "execute_result"
    }
   ],
   "source": [
    "phospho_samples.difference(rna_samples)"
   ]
  },
  {
   "cell_type": "code",
   "execution_count": 269,
   "metadata": {},
   "outputs": [],
   "source": [
    "with open(\"phospho_samples.txt\", \"w\") as fh:\n",
    "    for samp in phospho_samples:\n",
    "        fh.write(\"%s\\n\"%samp)"
   ]
  },
  {
   "cell_type": "markdown",
   "metadata": {},
   "source": [
    "# Harmonizing samples"
   ]
  },
  {
   "cell_type": "code",
   "execution_count": 268,
   "metadata": {},
   "outputs": [],
   "source": [
    "common_samples = (prot_samples.intersection(phospho_samples).intersection(rna_samples).intersection(cna_samples))"
   ]
  },
  {
   "cell_type": "code",
   "execution_count": 270,
   "metadata": {},
   "outputs": [],
   "source": [
    "datasets = {\n",
    "    'cna':cna,\n",
    "    'rna':rna,\n",
    "    'protein':prot,\n",
    "    'phospho':phospho\n",
    "}"
   ]
  },
  {
   "cell_type": "code",
   "execution_count": 271,
   "metadata": {},
   "outputs": [],
   "source": [
    "for lab, df in datasets.items():\n",
    "    temp = df[common_samples]\n",
    "    temp.to_csv('%s_common_samples_data.csv'%lab)"
   ]
  },
  {
   "cell_type": "markdown",
   "metadata": {},
   "source": [
    "# Annotations for common samples"
   ]
  },
  {
   "cell_type": "code",
   "execution_count": 285,
   "metadata": {},
   "outputs": [],
   "source": [
    "cptac = pd.read_csv('CPTAC2016/CPTAC_patient_annotations.csv', index_col=1)"
   ]
  },
  {
   "cell_type": "code",
   "execution_count": 288,
   "metadata": {},
   "outputs": [],
   "source": [
    "cptac.loc[common_samples, :].to_csv('annotations_common_samples.csv')"
   ]
  }
 ],
 "metadata": {
  "kernelspec": {
   "display_name": "Python 3",
   "language": "python",
   "name": "python3"
  },
  "language_info": {
   "codemirror_mode": {
    "name": "ipython",
    "version": 3
   },
   "file_extension": ".py",
   "mimetype": "text/x-python",
   "name": "python",
   "nbconvert_exporter": "python",
   "pygments_lexer": "ipython3",
   "version": "3.7.3"
  }
 },
 "nbformat": 4,
 "nbformat_minor": 4
}
